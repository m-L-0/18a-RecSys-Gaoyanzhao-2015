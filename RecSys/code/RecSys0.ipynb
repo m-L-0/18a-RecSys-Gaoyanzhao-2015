{
 "cells": [
  {
   "cell_type": "code",
   "execution_count": null,
   "metadata": {},
   "outputs": [],
   "source": [
    "import numpy as np\n",
    "import random"
   ]
  },
  {
   "cell_type": "code",
   "execution_count": null,
   "metadata": {},
   "outputs": [],
   "source": [
    "def load_movielens(path='./ml-100k'):\n",
    "    # get movie titles\n",
    "    movies = {}\n",
    "    for line in open(path + '/u.item', encoding='latin-1'):\n",
    "        id, title = line.split('|')[0:2]\n",
    "        movies[id] = id\n",
    "    # load data\n",
    "    prefs = {}\n",
    "    for line in open(path + '/u.data', encoding='latin-1'):\n",
    "        user, movieid, rating, ts = line.split('\\t')\n",
    "        prefs.setdefault(user, {})\n",
    "        prefs[user][movies[movieid]] = float(rating)\n",
    "    return prefs"
   ]
  },
  {
   "cell_type": "code",
   "execution_count": null,
   "metadata": {},
   "outputs": [],
   "source": [
    "prefs = load_movielens()\n",
    "print(prefs['88'])"
   ]
  },
  {
   "cell_type": "code",
   "execution_count": null,
   "metadata": {
    "scrolled": true
   },
   "outputs": [],
   "source": [
    "def split_data(data, M, k, seed):\n",
    "    test = []\n",
    "    train = []\n",
    "    random.seed(seed)\n",
    "    for user in data:\n",
    "        if random.randint(0, M) == k:\n",
    "            test.append([user, data[user]])\n",
    "        else:\n",
    "            train.append([user, data[user]])\n",
    "    return train, test"
   ]
  },
  {
   "cell_type": "code",
   "execution_count": null,
   "metadata": {},
   "outputs": [],
   "source": [
    "train, test = split_data(prefs, 8, 1, 1)\n",
    "def changement(data):\n",
    "    x = []\n",
    "    y = []\n",
    "    for i in range(len(data)):\n",
    "        for j in range(1682):\n",
    "            x.append(data[i][1].get(str(j+1), 0.0))\n",
    "        y.append(x)\n",
    "        x = []\n",
    "    y = np.array(y)\n",
    "    return y\n",
    "train = changement(train)\n",
    "test = changement(test)"
   ]
  },
  {
   "cell_type": "code",
   "execution_count": null,
   "metadata": {},
   "outputs": [],
   "source": [
    "def cos_sim(x ,y):\n",
    "    numerator = x * y.T\n",
    "    NM = len(numerator[numerator>0])\n",
    "    N = np.sqrt(x * x.T)\n",
    "    N = len(N[N>0])\n",
    "    M = np.sqrt(y * y.T)\n",
    "    M = len(M[M>0])\n",
    "    denominator = M * N\n",
    "    return NM / denominator  "
   ]
  },
  {
   "cell_type": "code",
   "execution_count": null,
   "metadata": {},
   "outputs": [],
   "source": [
    "def similarity(data):\n",
    "    m = np.shape(data)[0]\n",
    "    w = np.mat(np.zeros((m, m)))\n",
    "    for i in range(m):\n",
    "        for j in range(i, m):\n",
    "            if not j == i:\n",
    "                w[i, j] = cos_sim(data[i], data[j])\n",
    "                w[j, i] = w[i, j]\n",
    "            else:\n",
    "                w[i, j] = 0\n",
    "    return w"
   ]
  },
  {
   "cell_type": "code",
   "execution_count": null,
   "metadata": {},
   "outputs": [],
   "source": [
    "w = similarity(train)"
   ]
  },
  {
   "cell_type": "code",
   "execution_count": null,
   "metadata": {},
   "outputs": [],
   "source": [
    "def user_based_recommend(data, w, user):\n",
    "    m, n = np.shape(data)\n",
    "    interaction = data[user, ]\n",
    "    not_inter = []\n",
    "    for i in range(n):\n",
    "        if interaction[i] == 0:\n",
    "            not_inter.append(i)\n",
    "    predict = {}\n",
    "    for x in not_inter:\n",
    "        item = np.copy(data[:, x])\n",
    "        for i in range(m):\n",
    "            if item[i] != 0:\n",
    "                if x not in predict:\n",
    "                    predict[x] = w[user, i] * item[i]\n",
    "                else:\n",
    "                    predict[x] = predict[x] + w[user, i] + item[i]\n",
    "    return sorted(predict.items(), key = lambda d: d[1], reverse=True)\n",
    "predict = user_based_recommend(train, w, 88)\n",
    "predict"
   ]
  },
  {
   "cell_type": "code",
   "execution_count": null,
   "metadata": {},
   "outputs": [],
   "source": [
    "# top_n \n",
    "def top_k(predict, n):\n",
    "    top_recom = []\n",
    "    len_result = len(predict)\n",
    "    if n>= len_result:\n",
    "        top_recom = predict\n",
    "    else:\n",
    "        for i in range(n):\n",
    "            top_recom.append(predict[i])\n",
    "    return top_recom\n",
    "top_k(predict, 5)"
   ]
  },
  {
   "cell_type": "code",
   "execution_count": null,
   "metadata": {},
   "outputs": [],
   "source": []
  },
  {
   "cell_type": "code",
   "execution_count": null,
   "metadata": {},
   "outputs": [],
   "source": []
  },
  {
   "cell_type": "code",
   "execution_count": null,
   "metadata": {},
   "outputs": [],
   "source": []
  },
  {
   "cell_type": "code",
   "execution_count": null,
   "metadata": {},
   "outputs": [],
   "source": []
  },
  {
   "cell_type": "code",
   "execution_count": null,
   "metadata": {},
   "outputs": [],
   "source": []
  }
 ],
 "metadata": {
  "kernelspec": {
   "display_name": "Python 3",
   "language": "python",
   "name": "python3"
  },
  "language_info": {
   "codemirror_mode": {
    "name": "ipython",
    "version": 3
   },
   "file_extension": ".py",
   "mimetype": "text/x-python",
   "name": "python",
   "nbconvert_exporter": "python",
   "pygments_lexer": "ipython3",
   "version": "3.6.0"
  }
 },
 "nbformat": 4,
 "nbformat_minor": 2
}
